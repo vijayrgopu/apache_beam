{
  "nbformat": 4,
  "nbformat_minor": 0,
  "metadata": {
    "colab": {
      "name": "10_Bank_Case_Study.ipynb",
      "provenance": [],
      "authorship_tag": "ABX9TyPvS6uq485VQ63Kap+/vJ16",
      "include_colab_link": true
    },
    "kernelspec": {
      "name": "python3",
      "display_name": "Python 3"
    }
  },
  "cells": [
    {
      "cell_type": "markdown",
      "metadata": {
        "id": "view-in-github",
        "colab_type": "text"
      },
      "source": [
        "<a href=\"https://colab.research.google.com/github/vijayrgopu/apache_beam/blob/master/10_Bank_Case_Study.ipynb\" target=\"_parent\"><img src=\"https://colab.research.google.com/assets/colab-badge.svg\" alt=\"Open In Colab\"/></a>"
      ]
    },
    {
      "cell_type": "code",
      "metadata": {
        "id": "FbzNEkTOwEYw",
        "colab_type": "code",
        "outputId": "90036832-4fc8-4886-880e-1b9a2810be52",
        "colab": {
          "resources": {
            "http://localhost:8080/nbextensions/google.colab/files.js": {
              "data": "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",
              "ok": true,
              "headers": [
                [
                  "content-type",
                  "application/javascript"
                ]
              ],
              "status": 200,
              "status_text": ""
            }
          },
          "base_uri": "https://localhost:8080/",
          "height": 75
        }
      },
      "source": [
        "from google.colab import files\n",
        "uploaded = files.upload()"
      ],
      "execution_count": 0,
      "outputs": [
        {
          "output_type": "display_data",
          "data": {
            "text/html": [
              "\n",
              "     <input type=\"file\" id=\"files-42159775-4dcf-4f21-949c-6465a9d73501\" name=\"files[]\" multiple disabled />\n",
              "     <output id=\"result-42159775-4dcf-4f21-949c-6465a9d73501\">\n",
              "      Upload widget is only available when the cell has been executed in the\n",
              "      current browser session. Please rerun this cell to enable.\n",
              "      </output>\n",
              "      <script src=\"/nbextensions/google.colab/files.js\"></script> "
            ],
            "text/plain": [
              "<IPython.core.display.HTML object>"
            ]
          },
          "metadata": {
            "tags": []
          }
        },
        {
          "output_type": "stream",
          "text": [
            "Saving cards.txt.gz to cards.txt.gz\n"
          ],
          "name": "stdout"
        }
      ]
    },
    {
      "cell_type": "code",
      "metadata": {
        "id": "oW1ZXBqQx_Pk",
        "colab_type": "code",
        "colab": {}
      },
      "source": [
        "!gzip -d loan.txt.gz\n",
        "!gzip -d cards.txt.gz"
      ],
      "execution_count": 0,
      "outputs": []
    },
    {
      "cell_type": "code",
      "metadata": {
        "id": "ywsiMWroBFfB",
        "colab_type": "code",
        "outputId": "ee19a036-ee8c-4ab7-9355-3d15e9323dfb",
        "colab": {
          "base_uri": "https://localhost:8080/",
          "height": 408
        }
      },
      "source": [
        "!pip install --quiet apache_beam[gcp]"
      ],
      "execution_count": 0,
      "outputs": [
        {
          "output_type": "stream",
          "text": [
            "\u001b[K     |████████████████████████████████| 3.4MB 4.9MB/s \n",
            "\u001b[K     |████████████████████████████████| 59.2MB 67kB/s \n",
            "\u001b[K     |████████████████████████████████| 51kB 7.7MB/s \n",
            "\u001b[K     |████████████████████████████████| 1.2MB 49.7MB/s \n",
            "\u001b[K     |████████████████████████████████| 61kB 8.8MB/s \n",
            "\u001b[K     |████████████████████████████████| 81kB 9.2MB/s \n",
            "\u001b[K     |████████████████████████████████| 225kB 49.7MB/s \n",
            "\u001b[K     |████████████████████████████████| 143kB 48.5MB/s \n",
            "\u001b[K     |████████████████████████████████| 92kB 12.1MB/s \n",
            "\u001b[K     |████████████████████████████████| 235kB 38.8MB/s \n",
            "\u001b[K     |████████████████████████████████| 174kB 53.9MB/s \n",
            "\u001b[K     |████████████████████████████████| 122kB 48.3MB/s \n",
            "\u001b[K     |████████████████████████████████| 112kB 54.2MB/s \n",
            "\u001b[?25h  Building wheel for hdfs (setup.py) ... \u001b[?25l\u001b[?25hdone\n",
            "  Building wheel for oauth2client (setup.py) ... \u001b[?25l\u001b[?25hdone\n",
            "  Building wheel for httplib2 (setup.py) ... \u001b[?25l\u001b[?25hdone\n",
            "  Building wheel for avro-python3 (setup.py) ... \u001b[?25l\u001b[?25hdone\n",
            "  Building wheel for google-apitools (setup.py) ... \u001b[?25l\u001b[?25hdone\n",
            "  Building wheel for grpc-google-iam-v1 (setup.py) ... \u001b[?25l\u001b[?25hdone\n",
            "\u001b[31mERROR: pydrive 1.3.1 has requirement oauth2client>=4.0.0, but you'll have oauth2client 3.0.0 which is incompatible.\u001b[0m\n",
            "\u001b[31mERROR: google-api-python-client 1.7.12 has requirement httplib2<1dev,>=0.17.0, but you'll have httplib2 0.12.0 which is incompatible.\u001b[0m\n",
            "\u001b[31mERROR: chainer 6.5.0 has requirement typing<=3.6.6, but you'll have typing 3.7.4.1 which is incompatible.\u001b[0m\n",
            "\u001b[31mERROR: chainer 6.5.0 has requirement typing-extensions<=3.6.6, but you'll have typing-extensions 3.7.4.2 which is incompatible.\u001b[0m\n"
          ],
          "name": "stdout"
        }
      ]
    },
    {
      "cell_type": "code",
      "metadata": {
        "id": "dLiOkK4hBLK_",
        "colab_type": "code",
        "colab": {}
      },
      "source": [
        "import apache_beam as beam\n",
        "from datetime import datetime"
      ],
      "execution_count": 0,
      "outputs": []
    },
    {
      "cell_type": "code",
      "metadata": {
        "id": "Fn-sBhwJCMH8",
        "colab_type": "code",
        "outputId": "b78092cf-7fcb-4fcb-aa2a-ff6f34fd0c00",
        "colab": {
          "base_uri": "https://localhost:8080/",
          "height": 54
        }
      },
      "source": [
        "def calculate_points(element):\n",
        "  cust_id, f_name, l_name, relation, card_type, max_credit, t_spent, withdrawn, cleared, last_date = element.split(',')\n",
        "  defaulter_points = 0\n",
        "  key = cust_id + '-' + f_name + ' ' + l_name\n",
        "  rule_1, rule_2 = False, False\n",
        "  \n",
        "  #70 percent business rule\n",
        "  cust_70_perc = float(max_credit) * 0.7\n",
        "  if(cust_70_perc >= float(cleared)):\n",
        "    defaulter_points += 1\n",
        "    rule_1 = True\n",
        "\n",
        "  #full amount uncleared\n",
        "  if(max_credit == t_spent and float(max_credit) > float(cleared)):\n",
        "    defaulter_points += 1\n",
        "    rule_2 = True\n",
        "\n",
        "  #additional points\n",
        "  if(rule_1 and rule_2):\n",
        "    defaulter_points += 1  \n",
        "\n",
        "  return key, defaulter_points\n",
        "\n",
        "def find_ploan_defaulters(element):\n",
        "  allowed_miss_payments = 4\n",
        "  allowed_cons_payments = 2\n",
        "  key, months_list = element\n",
        "  months_list.sort()\n",
        "  sorted_months = months_list\n",
        "  #print(sorted_months)\n",
        "  \n",
        "  tot_payments =len(sorted_months)\n",
        "  #return element\n",
        "  \n",
        "  #auto return when total payments < 8\n",
        "  if (tot_payments <= (12 - allowed_miss_payments)):\n",
        "    return key,tot_payments\n",
        "  #auto return when total payments == 12  \n",
        "  if (tot_payments == 12):\n",
        "    return key,0  \n",
        "  \n",
        "  next_month = 1\n",
        "  cons_miss = 0\n",
        "  for month in sorted_months:\n",
        "    if (int(next_month) != int(month)):\n",
        "      #if (month - next_month > 2):\n",
        "        #cons_miss += 1\n",
        "      if (month - next_month >= 2):\n",
        "        next_month = month + 1\n",
        "        cons_miss += (month - next_month)\n",
        "      if ((month - next_month) == 1):\n",
        "        next_month = month + 1\n",
        "        cons_miss += 1 \n",
        "    else:\n",
        "      next_month += 1\n",
        "\n",
        "  if (cons_miss >= allowed_cons_payments):\n",
        "      return key,cons_miss\n",
        "\n",
        "  return key,0         \n",
        "\n",
        "def append_months(element):\n",
        "  payment_date = datetime.strptime(element[8].rstrip().lstrip(),'%d-%m-%Y')\n",
        "  element.append(str(payment_date.month)) \n",
        "  return element\n",
        "\n",
        "def count_late_payments(element):\n",
        "  due_date = datetime.strptime(element[6].rstrip().lstrip(),'%d-%m-%Y')\n",
        "  payment_date = datetime.strptime(element[8].rstrip().lstrip(),'%d-%m-%Y')\n",
        "  \n",
        "  if (payment_date > due_date):\n",
        "    element.append(1)\n",
        "  else:\n",
        "    element.append(0)\n",
        "  return element    \n",
        "\n",
        "def format_output(element):\n",
        "  key, missed_months = element\n",
        "  return str(key) + ', ' + str(missed_months) + ' missed'\n",
        "\n",
        "def return_tuple(element):\n",
        "  thisTuple = element.split(',')\n",
        "  return (thisTuple[0],thisTuple[1:])\n",
        "  \n",
        "with beam.Pipeline() as p1:\n",
        "  cards_data = (\n",
        "      p1\n",
        "      |'Read from cards.txt' >> beam.io.ReadFromText('cards.txt',skip_header_lines=1)\n",
        "      |'Calculate points' >> beam.Map(calculate_points)\n",
        "      |'Sum Defaulter points' >> beam.CombinePerKey(sum)\n",
        "      |'Filter in Defaulters' >> beam.Filter(lambda element : element[1] > 0)\n",
        "      |'Format output' >> beam.Map(lambda for_mat : str(for_mat[0]+','+str(for_mat[1])))\n",
        "      |'return tuple' >> beam.Map(return_tuple)\n",
        "      #|'Write to defaulters files' >> beam.io.WriteToText('defaulters.txt')\n",
        "  )\n",
        "\n",
        "  p_loan_data = (\n",
        "      p1\n",
        "      |'Read from loan.txt' >> beam.io.ReadFromText('loan.txt',skip_header_lines=1)\n",
        "      |'loan row split' >> beam.Map(lambda row : row.split(','))\n",
        "      |'Filter per loan recs' >> beam.Filter(lambda element : element[5]=='Personal Loan')\n",
        "      |'Append months' >> beam.Map(append_months)\n",
        "      |'Find defaulters' >> beam.Map(lambda record : (record[0]+'-'+record[1]+' '+record[2],int(record[9])))\n",
        "      |'Group by Key' >> beam.GroupByKey()\n",
        "      |'Find Defaulters' >> beam.Map(find_ploan_defaulters)\n",
        "      |'Filter Defaulters' >> beam.Filter(lambda element : element[1] > 0)\n",
        "      |'Format personal loan output' >> beam.Map(format_output)\n",
        "      #|'Write out' >> beam.io.WriteToText('out')\n",
        "  )\n",
        "\n",
        "  m_loan_data = (\n",
        "      p1\n",
        "      |'Read from loan.txt for meds' >> beam.io.ReadFromText('loan.txt',skip_header_lines=1)\n",
        "      |'loan row split for med' >> beam.Map(lambda row : row.split(','))\n",
        "      |'Filter per loan recs for med' >> beam.Filter(lambda element : element[5]=='Medical Loan')\n",
        "      |'count m_loan miss payments' >> beam.Map(count_late_payments)\n",
        "      |'prepare data' >> beam.Map(lambda elements : (elements[0]+'-'+elements[1]+' '+elements[2], int(elements[9])))\n",
        "      |'group b m_loans by key' >> beam.CombinePerKey(sum)\n",
        "      |'Filter out non missers' >> beam.Filter(lambda elements : elements[1] > 0)\n",
        "      |'Format medical loan output' >> beam.Map(format_output)\n",
        "  )\n",
        "\n",
        "  loan_defaulters = (\n",
        "      (p_loan_data,m_loan_data)\n",
        "      |'Combine data' >> beam.Flatten()\n",
        "      |'Tuple for loan' >> beam.Map(return_tuple)\n",
        "  )\n",
        "\n",
        "  combine_loan_card_defaulters = (\n",
        "      {'card_defaulter':cards_data, 'loan_defaulter' : loan_defaulters}\n",
        "      |beam.CoGroupByKey()\n",
        "      |'Write Results' >> beam.io.WriteToText('out')\n",
        "  )\n",
        "  "
      ],
      "execution_count": 0,
      "outputs": [
        {
          "output_type": "stream",
          "text": [
            "WARNING:apache_beam.runners.interactive.interactive_environment:Dependencies required for Interactive Beam PCollection visualization are not available, please use: `pip install apache-beam[interactive]` to install necessary dependencies to enable all data visualization features.\n"
          ],
          "name": "stderr"
        }
      ]
    },
    {
      "cell_type": "code",
      "metadata": {
        "id": "h18qh1ngeutV",
        "colab_type": "code",
        "outputId": "6ef56492-cb99-41f6-f48c-83a2146719db",
        "colab": {
          "base_uri": "https://localhost:8080/",
          "height": 68
        }
      },
      "source": [
        "!ls -ltr"
      ],
      "execution_count": 0,
      "outputs": [
        {
          "output_type": "stream",
          "text": [
            "total 20\n",
            "drwxr-xr-x 1 root root  4096 Mar 18 16:23 sample_data\n",
            "-rw-r--r-- 1 root root 13636 Apr  6 15:53 loan.txt.gz\n"
          ],
          "name": "stdout"
        }
      ]
    },
    {
      "cell_type": "code",
      "metadata": {
        "id": "xfmJ_g3drgiW",
        "colab_type": "code",
        "outputId": "dbff9a6e-ea54-4a28-880c-3bc2930eeeb9",
        "colab": {
          "base_uri": "https://localhost:8080/",
          "height": 187
        }
      },
      "source": [
        "!head -10 out-00000-of-00001"
      ],
      "execution_count": 0,
      "outputs": [
        {
          "output_type": "stream",
          "text": [
            "('CT28383-Miyako Burns', {'card_defaulter': [['9']], 'loan_defaulter': []})\n",
            "('CT74474-Nanaho Brennan', {'card_defaulter': [['12']], 'loan_defaulter': [[' 7 missed']]})\n",
            "('CT66322-Chris Bruce', {'card_defaulter': [['12']], 'loan_defaulter': [[' 4 missed']]})\n",
            "('CT65528-Bonnie Barlow', {'card_defaulter': [['12']], 'loan_defaulter': []})\n",
            "('CT84463-Isaac Bowman', {'card_defaulter': [['11']], 'loan_defaulter': []})\n",
            "('CT12838-Isidore Albert', {'card_defaulter': [['12']], 'loan_defaulter': []})\n",
            "('CT96185-Danielle Bradshaw', {'card_defaulter': [['12']], 'loan_defaulter': []})\n",
            "('CT74827-Hanna Boyer', {'card_defaulter': [['12']], 'loan_defaulter': []})\n",
            "('CT98239-Sayuri Case', {'card_defaulter': [['12']], 'loan_defaulter': []})\n",
            "('CT57141-Kaori Brown', {'card_defaulter': [['12']], 'loan_defaulter': []})\n"
          ],
          "name": "stdout"
        }
      ]
    },
    {
      "cell_type": "code",
      "metadata": {
        "id": "2xWEMbz9b0Gw",
        "colab_type": "code",
        "colab": {}
      },
      "source": [
        "list_def = []\n",
        "with open('defaulters.txt-00000-of-00001') as file:\n",
        "  for line in file:\n",
        "    key,value = line.split(',')\n",
        "    list_def.append((key,int(value)))\n",
        "\n",
        "  list_def.sort(key=lambda x : x[1])\n",
        "  for k,v in list_def:\n",
        "    print(k,v,sep=' --> ')"
      ],
      "execution_count": 0,
      "outputs": []
    },
    {
      "cell_type": "code",
      "metadata": {
        "id": "RsrVSQu-JzOP",
        "colab_type": "code",
        "colab": {}
      },
      "source": [
        "!head -20 defaulters.txt-00000-of-00001"
      ],
      "execution_count": 0,
      "outputs": []
    }
  ]
}