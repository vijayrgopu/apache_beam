{
  "nbformat": 4,
  "nbformat_minor": 0,
  "metadata": {
    "colab": {
      "name": "12b_PubSub_FixedWindow_Subscribe.ipynb",
      "provenance": [],
      "authorship_tag": "ABX9TyPLV8qcnGzFXC8acEh5f+Rr",
      "include_colab_link": true
    },
    "kernelspec": {
      "name": "python3",
      "display_name": "Python 3"
    }
  },
  "cells": [
    {
      "cell_type": "markdown",
      "metadata": {
        "id": "view-in-github",
        "colab_type": "text"
      },
      "source": [
        "<a href=\"https://colab.research.google.com/github/vijayrgopu/apache_beam/blob/master/12b_PubSub_FixedWindow_Subscribe.ipynb\" target=\"_parent\"><img src=\"https://colab.research.google.com/assets/colab-badge.svg\" alt=\"Open In Colab\"/></a>"
      ]
    },
    {
      "cell_type": "code",
      "metadata": {
        "id": "rrLS7Zw5qUcJ",
        "colab_type": "code",
        "outputId": "eaf37bd2-77e3-40e0-f564-5af2a4789bb2",
        "colab": {
          "resources": {
            "http://localhost:8080/nbextensions/google.colab/files.js": {
              "data": "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",
              "ok": true,
              "headers": [
                [
                  "content-type",
                  "application/javascript"
                ]
              ],
              "status": 200,
              "status_text": ""
            }
          },
          "base_uri": "https://localhost:8080/",
          "height": 75
        }
      },
      "source": [
        "from google.colab import files\n",
        "uploaded = files.upload()"
      ],
      "execution_count": 0,
      "outputs": [
        {
          "output_type": "display_data",
          "data": {
            "text/html": [
              "\n",
              "     <input type=\"file\" id=\"files-7e91bfec-3438-43ab-bca2-222905da0bd2\" name=\"files[]\" multiple disabled />\n",
              "     <output id=\"result-7e91bfec-3438-43ab-bca2-222905da0bd2\">\n",
              "      Upload widget is only available when the cell has been executed in the\n",
              "      current browser session. Please rerun this cell to enable.\n",
              "      </output>\n",
              "      <script src=\"/nbextensions/google.colab/files.js\"></script> "
            ],
            "text/plain": [
              "<IPython.core.display.HTML object>"
            ]
          },
          "metadata": {
            "tags": []
          }
        },
        {
          "output_type": "stream",
          "text": [
            "Saving vg-proj1-pub-sub-4eb0685e1c86.json to vg-proj1-pub-sub-4eb0685e1c86.json\n"
          ],
          "name": "stdout"
        }
      ]
    },
    {
      "cell_type": "code",
      "metadata": {
        "id": "xYHnZfODNJZs",
        "colab_type": "code",
        "outputId": "f18d3569-a8f1-414f-9b06-36d78f0c8ad5",
        "colab": {
          "base_uri": "https://localhost:8080/",
          "height": 51
        }
      },
      "source": [
        "!ls -ltr"
      ],
      "execution_count": 0,
      "outputs": [
        {
          "output_type": "stream",
          "text": [
            "total 4\n",
            "drwxr-xr-x 1 root root 4096 Apr  3 16:24 sample_data\n"
          ],
          "name": "stdout"
        }
      ]
    },
    {
      "cell_type": "code",
      "metadata": {
        "id": "7b83WLDHpgTU",
        "colab_type": "code",
        "outputId": "09c16031-8013-4e22-c917-8d2714345de8",
        "colab": {
          "base_uri": "https://localhost:8080/",
          "height": 51
        }
      },
      "source": [
        "!pip install --quiet --upgrade google-cloud-pubsub"
      ],
      "execution_count": 0,
      "outputs": [
        {
          "output_type": "stream",
          "text": [
            "\u001b[?25l\r\u001b[K     |██▍                             | 10kB 27.2MB/s eta 0:00:01\r\u001b[K     |████▉                           | 20kB 839kB/s eta 0:00:01\r\u001b[K     |███████▎                        | 30kB 1.2MB/s eta 0:00:01\r\u001b[K     |█████████▊                      | 40kB 1.7MB/s eta 0:00:01\r\u001b[K     |████████████                    | 51kB 1.0MB/s eta 0:00:01\r\u001b[K     |██████████████▌                 | 61kB 1.2MB/s eta 0:00:01\r\u001b[K     |█████████████████               | 71kB 1.4MB/s eta 0:00:01\r\u001b[K     |███████████████████▍            | 81kB 1.6MB/s eta 0:00:01\r\u001b[K     |█████████████████████▊          | 92kB 1.2MB/s eta 0:00:01\r\u001b[K     |████████████████████████▏       | 102kB 1.4MB/s eta 0:00:01\r\u001b[K     |██████████████████████████▋     | 112kB 1.4MB/s eta 0:00:01\r\u001b[K     |█████████████████████████████   | 122kB 1.4MB/s eta 0:00:01\r\u001b[K     |███████████████████████████████▍| 133kB 1.4MB/s eta 0:00:01\r\u001b[K     |████████████████████████████████| 143kB 1.4MB/s \n",
            "\u001b[?25h  Building wheel for grpc-google-iam-v1 (setup.py) ... \u001b[?25l\u001b[?25hdone\n"
          ],
          "name": "stdout"
        }
      ]
    },
    {
      "cell_type": "code",
      "metadata": {
        "id": "FGfQQKCSp9ai",
        "colab_type": "code",
        "colab": {}
      },
      "source": [
        "from google.cloud import pubsub_v1"
      ],
      "execution_count": 0,
      "outputs": []
    },
    {
      "cell_type": "code",
      "metadata": {
        "id": "9g-hxverqJSB",
        "colab_type": "code",
        "colab": {}
      },
      "source": [
        "import os\n",
        "import time"
      ],
      "execution_count": 0,
      "outputs": []
    },
    {
      "cell_type": "code",
      "metadata": {
        "id": "9-U0B7MDqOti",
        "colab_type": "code",
        "colab": {}
      },
      "source": [
        "os.environ['GOOGLE_APPLICATION_CREDENTIALS']='vg-proj1-pub-sub-4eb0685e1c86.json'\n",
        "subscription = 'projects/vg-proj1-pub-sub/subscriptions/sub2-top1-vg-proj1-pub-sub'"
      ],
      "execution_count": 0,
      "outputs": []
    },
    {
      "cell_type": "code",
      "metadata": {
        "id": "GjErK2ohqiW7",
        "colab_type": "code",
        "outputId": "ef19136e-8f48-43da-f42a-a052d1189d6d",
        "colab": {
          "base_uri": "https://localhost:8080/",
          "height": 1000
        }
      },
      "source": [
        "def callback(message):\n",
        "  print('Recevied Message {}'.format(message))\n",
        "  message.ack()\n",
        "\n",
        "if __name__ == \"__main__\":\n",
        "  subscriber = pubsub_v1.SubscriberClient()\n",
        "  subscriber.subscribe(subscription,callback=callback)\n",
        "\n",
        "  while True:\n",
        "    time.sleep(5)"
      ],
      "execution_count": 0,
      "outputs": [
        {
          "output_type": "stream",
          "text": [
            "Recevied Message Message {\n",
            "  data: b\"('STR_2', 1060)\"\n",
            "  ordering_key: ''\n",
            "  attributes: {}\n",
            "}\n",
            "Recevied Message Message {\n",
            "  data: b\"('STR_1', 1100)\"\n",
            "  ordering_key: ''\n",
            "  attributes: {}\n",
            "}\n",
            "Recevied Message Message {\n",
            "  data: b\"('STR_2', 325)\"\n",
            "  ordering_key: ''\n",
            "  attributes: {}\n",
            "}\n",
            "Recevied Message Message {\n",
            "  data: b\"('STR_1', 352)\"\n",
            "  ordering_key: ''\n",
            "  attributes: {}\n",
            "}\n",
            "Recevied Message Message {\n",
            "  data: b\"('STR_2', 725)\"\n",
            "  ordering_key: ''\n",
            "  attributes: {}\n",
            "}\n",
            "Recevied Message Message {\n",
            "  data: b\"('STR_1', 594)\"\n",
            "  ordering_key: ''\n",
            "  attributes: {}\n",
            "}\n",
            "Recevied Message Message {\n",
            "  data: b\"('STR_2', 874)\"\n",
            "  ordering_key: ''\n",
            "  attributes: {}\n",
            "}\n",
            "Recevied Message Message {\n",
            "  data: b\"('STR_2', 827)\"\n",
            "  ordering_key: ''\n",
            "  attributes: {}\n",
            "}\n",
            "Recevied Message Message {\n",
            "  data: b\"('STR_2', 622)\"\n",
            "  ordering_key: ''\n",
            "  attributes: {}\n",
            "}\n",
            "Recevied Message Message {\n",
            "  data: b\"('STR_1', 1194)\"\n",
            "  ordering_key: ''\n",
            "  attributes: {}\n",
            "}\n",
            "Recevied Message Message {\n",
            "  data: b\"('STR_2', 812)\"\n",
            "  ordering_key: ''\n",
            "  attributes: {}\n",
            "}\n",
            "Recevied Message Message {\n",
            "  data: b\"('STR_2', 670)\"\n",
            "  ordering_key: ''\n",
            "  attributes: {}\n",
            "}\n",
            "Recevied Message Message {\n",
            "  data: b\"('STR_1', 882)\"\n",
            "  ordering_key: ''\n",
            "  attributes: {}\n",
            "}\n",
            "Recevied Message Message {\n",
            "  data: b\"('STR_2', 656)\"\n",
            "  ordering_key: ''\n",
            "  attributes: {}\n",
            "}\n",
            "Recevied Message Message {\n",
            "  data: b\"('STR_2', 78)\"\n",
            "  ordering_key: ''\n",
            "  attributes: {}\n",
            "}\n",
            "Recevied Message Message {\n",
            "  data: b\"('STR_2', 288)\"\n",
            "  ordering_key: ''\n",
            "  attributes: {}\n",
            "}\n",
            "Recevied Message Message {\n",
            "  data: b\"('STR_1', 248)\"\n",
            "  ordering_key: ''\n",
            "  attributes: {}\n",
            "}\n",
            "Recevied Message Message {\n",
            "  data: b\"('STR_2', 348)\"\n",
            "  ordering_key: ''\n",
            "  attributes: {}\n",
            "}\n",
            "Recevied Message Message {\n",
            "  data: b\"('STR_2', 363)\"\n",
            "  ordering_key: ''\n",
            "  attributes: {}\n",
            "}\n",
            "Recevied Message Message {\n",
            "  data: b\"('STR_2', 489)\"\n",
            "  ordering_key: ''\n",
            "  attributes: {}\n",
            "}\n",
            "Recevied Message Message {\n",
            "  data: b\"('STR_2', 446)\"\n",
            "  ordering_key: ''\n",
            "  attributes: {}\n",
            "}\n",
            "Recevied Message Message {\n",
            "  data: b\"('STR_1', 392)\"\n",
            "  ordering_key: ''\n",
            "  attributes: {}\n",
            "}\n",
            "Recevied Message Message {\n",
            "  data: b\"('STR_2', 226)\"\n",
            "  ordering_key: ''\n",
            "  attributes: {}\n",
            "}\n",
            "Recevied Message Message {\n",
            "  data: b\"('STR_1', 1302)\"\n",
            "  ordering_key: ''\n",
            "  attributes: {}\n",
            "}\n",
            "Recevied Message Message {\n",
            "  data: b\"('STR_2', 886)\"\n",
            "  ordering_key: ''\n",
            "  attributes: {}\n",
            "}\n",
            "Recevied Message Message {\n",
            "  data: b\"('STR_1', 525)\"\n",
            "  ordering_key: ''\n",
            "  attributes: {}\n",
            "}\n",
            "Recevied Message Message {\n",
            "  data: b\"('STR_2', 928)\"\n",
            "  ordering_key: ''\n",
            "  attributes: {}\n",
            "}\n",
            "Recevied Message Message {\n",
            "  data: b\"('STR_2', 1392)\"\n",
            "  ordering_key: ''\n",
            "  attributes: {}\n",
            "}\n",
            "Recevied Message Message {\n",
            "  data: b\"('STR_1', 786)\"\n",
            "  ordering_key: ''\n",
            "  attributes: {}\n",
            "}\n",
            "Recevied Message Message {\n",
            "  data: b\"('STR_2', 276)\"\n",
            "  ordering_key: ''\n",
            "  attributes: {}\n",
            "}\n",
            "Recevied Message Message {\n",
            "  data: b\"('STR_2', 716)\"\n",
            "  ordering_key: ''\n",
            "  attributes: {}\n",
            "}\n",
            "Recevied Message Message {\n",
            "  data: b\"('STR_1', 56)\"\n",
            "  ordering_key: ''\n",
            "  attributes: {}\n",
            "}\n",
            "Recevied Message Message {\n",
            "  data: b\"('STR_2', 710)\"\n",
            "  ordering_key: ''\n",
            "  attributes: {}\n",
            "}\n",
            "Recevied Message Message {\n",
            "  data: b\"('STR_1', 655)\"\n",
            "  ordering_key: ''\n",
            "  attributes: {}\n",
            "}\n",
            "Recevied Message Message {\n",
            "  data: b\"('STR_2', 311)\"\n",
            "  ordering_key: ''\n",
            "  attributes: {}\n",
            "}\n",
            "Recevied Message Message {\n",
            "  data: b\"('STR_2', 768)\"\n",
            "  ordering_key: ''\n",
            "  attributes: {}\n",
            "}\n",
            "Recevied Message Message {\n",
            "  data: b\"('STR_1', 625)\"\n",
            "  ordering_key: ''\n",
            "  attributes: {}\n",
            "}\n",
            "Recevied Message Message {\n",
            "  data: b\"('STR_2', 284)\"\n",
            "  ordering_key: ''\n",
            "  attributes: {}\n",
            "}\n",
            "Recevied Message Message {\n",
            "  data: b\"('STR_2', 865)\"\n",
            "  ordering_key: ''\n",
            "  attributes: {}\n",
            "}\n",
            "Recevied Message Message {\n",
            "  data: b\"('STR_1', 659)\"\n",
            "  ordering_key: ''\n",
            "  attributes: {}\n",
            "}\n",
            "Recevied Message Message {\n",
            "  data: b\"('STR_2', 589)\"\n",
            "  ordering_key: ''\n",
            "  attributes: {}\n",
            "}\n",
            "Recevied Message Message {\n",
            "  data: b\"('STR_1', 603)\"\n",
            "  ordering_key: ''\n",
            "  attributes: {}\n",
            "}\n",
            "Recevied Message Message {\n",
            "  data: b\"('STR_2', 388)\"\n",
            "  ordering_key: ''\n",
            "  attributes: {}\n",
            "}\n",
            "Recevied Message Message {\n",
            "  data: b\"('STR_1', -91)\"\n",
            "  ordering_key: ''\n",
            "  attributes: {}\n",
            "}\n",
            "Recevied Message Message {\n",
            "  data: b\"('STR_2', 1162)\"\n",
            "  ordering_key: ''\n",
            "  attributes: {}\n",
            "}\n",
            "Recevied Message Message {\n",
            "  data: b\"('STR_1', 535)\"\n",
            "  ordering_key: ''\n",
            "  attributes: {}\n",
            "}\n",
            "Recevied Message Message {\n",
            "  data: b\"('STR_2', 1514)\"\n",
            "  ordering_key: ''\n",
            "  attributes: {}\n",
            "}\n",
            "Recevied Message Message {\n",
            "  data: b\"('STR_2', 112)\"\n",
            "  ordering_key: ''\n",
            "  attributes: {}\n",
            "}\n",
            "Recevied Message Message {\n",
            "  data: b\"('STR_2', 1197)\"\n",
            "  ordering_key: ''\n",
            "  attributes: {}\n",
            "}\n",
            "Recevied Message Message {\n",
            "  data: b\"('STR_1', 943)\"\n",
            "  ordering_key: ''\n",
            "  attributes: {}\n",
            "}\n",
            "Recevied Message Message {\n",
            "  data: b\"('STR_2', 550)\"\n",
            "  ordering_key: ''\n",
            "  attributes: {}\n",
            "}\n",
            "Recevied Message Message {\n",
            "  data: b\"('STR_2', 665)\"\n",
            "  ordering_key: ''\n",
            "  attributes: {}\n",
            "}\n",
            "Recevied Message Message {\n",
            "  data: b\"('STR_1', 713)\"\n",
            "  ordering_key: ''\n",
            "  attributes: {}\n",
            "}\n",
            "Recevied Message Message {\n",
            "  data: b\"('STR_2', 980)\"\n",
            "  ordering_key: ''\n",
            "  attributes: {}\n",
            "}\n",
            "Recevied Message Message {\n",
            "  data: b\"('STR_2', 311)\"\n",
            "  ordering_key: ''\n",
            "  attributes: {}\n",
            "}\n",
            "Recevied Message Message {\n",
            "  data: b\"('STR_1', 781)\"\n",
            "  ordering_key: ''\n",
            "  attributes: {}\n",
            "}\n",
            "Recevied Message Message {\n",
            "  data: b\"('STR_1', 658)\"\n",
            "  ordering_key: ''\n",
            "  attributes: {}\n",
            "}\n",
            "Recevied Message Message {\n",
            "  data: b\"('STR_2', 25)\"\n",
            "  ordering_key: ''\n",
            "  attributes: {}\n",
            "}\n",
            "Recevied Message Message {\n",
            "  data: b\"('STR_1', 479)\"\n",
            "  ordering_key: ''\n",
            "  attributes: {}\n",
            "}\n",
            "Recevied Message Message {\n",
            "  data: b\"('STR_1', 509)\"\n",
            "  ordering_key: ''\n",
            "  attributes: {}\n",
            "}\n",
            "Recevied Message Message {\n",
            "  data: b\"('STR_2', 233)\"\n",
            "  ordering_key: ''\n",
            "  attributes: {}\n",
            "}\n",
            "Recevied Message Message {\n",
            "  data: b\"('STR_2', 246)\"\n",
            "  ordering_key: ''\n",
            "  attributes: {}\n",
            "}\n",
            "Recevied Message Message {\n",
            "  data: b\"('STR_1', 679)\"\n",
            "  ordering_key: ''\n",
            "  attributes: {}\n",
            "}\n",
            "Recevied Message Message {\n",
            "  data: b\"('STR_1', 709)\"\n",
            "  ordering_key: ''\n",
            "  attributes: {}\n",
            "}\n",
            "Recevied Message Message {\n",
            "  data: b\"('STR_2', 576)\"\n",
            "  ordering_key: ''\n",
            "  attributes: {}\n",
            "}\n",
            "Recevied Message Message {\n",
            "  data: b\"('STR_1', 860)\"\n",
            "  ordering_key: ''\n",
            "  attributes: {}\n",
            "}\n",
            "Recevied Message Message {\n",
            "  data: b\"('STR_2', 270)\"\n",
            "  ordering_key: ''\n",
            "  attributes: {}\n",
            "}\n"
          ],
          "name": "stdout"
        }
      ]
    }
  ]
}