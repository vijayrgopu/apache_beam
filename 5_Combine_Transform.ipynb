{
  "nbformat": 4,
  "nbformat_minor": 0,
  "metadata": {
    "colab": {
      "name": "5_Combine_Transform.ipynb",
      "provenance": [],
      "authorship_tag": "ABX9TyOJQNF5Rk2aFOSH20w0GLdv",
      "include_colab_link": true
    },
    "kernelspec": {
      "name": "python3",
      "display_name": "Python 3"
    }
  },
  "cells": [
    {
      "cell_type": "markdown",
      "metadata": {
        "id": "view-in-github",
        "colab_type": "text"
      },
      "source": [
        "<a href=\"https://colab.research.google.com/github/vijayrgopu/apache_beam/blob/master/5_Combine_Transform.ipynb\" target=\"_parent\"><img src=\"https://colab.research.google.com/assets/colab-badge.svg\" alt=\"Open In Colab\"/></a>"
      ]
    },
    {
      "cell_type": "code",
      "metadata": {
        "id": "KTwsy6dLhGdG",
        "colab_type": "code",
        "outputId": "7090e751-860a-4334-d04e-8d11ca69f5fa",
        "colab": {
          "base_uri": "https://localhost:8080/",
          "height": 408
        }
      },
      "source": [
        "!pip3 install --quiet apache_beam[gcp]"
      ],
      "execution_count": 0,
      "outputs": [
        {
          "output_type": "stream",
          "text": [
            "\u001b[K     |████████████████████████████████| 3.4MB 1.4MB/s \n",
            "\u001b[K     |████████████████████████████████| 61kB 7.1MB/s \n",
            "\u001b[K     |████████████████████████████████| 81kB 7.6MB/s \n",
            "\u001b[K     |████████████████████████████████| 225kB 14.4MB/s \n",
            "\u001b[K     |████████████████████████████████| 59.2MB 75kB/s \n",
            "\u001b[K     |████████████████████████████████| 1.2MB 42.8MB/s \n",
            "\u001b[K     |████████████████████████████████| 51kB 7.0MB/s \n",
            "\u001b[K     |████████████████████████████████| 92kB 10.6MB/s \n",
            "\u001b[K     |████████████████████████████████| 143kB 44.7MB/s \n",
            "\u001b[K     |████████████████████████████████| 235kB 43.9MB/s \n",
            "\u001b[K     |████████████████████████████████| 122kB 37.8MB/s \n",
            "\u001b[K     |████████████████████████████████| 174kB 41.1MB/s \n",
            "\u001b[K     |████████████████████████████████| 112kB 44.1MB/s \n",
            "\u001b[?25h  Building wheel for oauth2client (setup.py) ... \u001b[?25l\u001b[?25hdone\n",
            "  Building wheel for httplib2 (setup.py) ... \u001b[?25l\u001b[?25hdone\n",
            "  Building wheel for avro-python3 (setup.py) ... \u001b[?25l\u001b[?25hdone\n",
            "  Building wheel for hdfs (setup.py) ... \u001b[?25l\u001b[?25hdone\n",
            "  Building wheel for google-apitools (setup.py) ... \u001b[?25l\u001b[?25hdone\n",
            "  Building wheel for grpc-google-iam-v1 (setup.py) ... \u001b[?25l\u001b[?25hdone\n",
            "\u001b[31mERROR: pydrive 1.3.1 has requirement oauth2client>=4.0.0, but you'll have oauth2client 3.0.0 which is incompatible.\u001b[0m\n",
            "\u001b[31mERROR: google-api-python-client 1.7.12 has requirement httplib2<1dev,>=0.17.0, but you'll have httplib2 0.12.0 which is incompatible.\u001b[0m\n",
            "\u001b[31mERROR: chainer 6.5.0 has requirement typing<=3.6.6, but you'll have typing 3.7.4.1 which is incompatible.\u001b[0m\n",
            "\u001b[31mERROR: chainer 6.5.0 has requirement typing-extensions<=3.6.6, but you'll have typing-extensions 3.7.4.2 which is incompatible.\u001b[0m\n"
          ],
          "name": "stdout"
        }
      ]
    },
    {
      "cell_type": "code",
      "metadata": {
        "id": "hQEGdSathP-P",
        "colab_type": "code",
        "colab": {}
      },
      "source": [
        "import apache_beam as beam"
      ],
      "execution_count": 0,
      "outputs": []
    },
    {
      "cell_type": "code",
      "metadata": {
        "id": "Tp5LHY6dh0es",
        "colab_type": "code",
        "outputId": "6d0b8775-c1c5-4d4c-b77f-4ad168724e14",
        "colab": {
          "base_uri": "https://localhost:8080/",
          "height": 442
        }
      },
      "source": [
        "class AverageFn(beam.CombineFn):\n",
        "  def create_accumulator(self):\n",
        "    print('inside create')\n",
        "    return (0.0, 0)\n",
        "\n",
        "  def add_input(self, sum_count, input):\n",
        "    (sum, count) = sum_count\n",
        "    print('add_input : sum_count {0}'.format(sum_count))\n",
        "    print('add_input : input {0}'.format(input))\n",
        "    return (sum+input, count+1)\n",
        "\n",
        "  def merge_accumulators(self, accumulators):\n",
        "    print('merge_accumulators : input {0}'.format(accumulators))\n",
        "    print('merge_accumulators : zip_acc {0}'.format(zip(*accumulators)))\n",
        "    sums, counts = zip(*accumulators)\n",
        "    print('merge_accumulators : sums {0}'.format(sums))\n",
        "    print('merge_accumulators : counts {0}'.format(counts))\n",
        "    return sum(sums), sum(counts)\n",
        "\n",
        "  def extract_output(self,sum_count):\n",
        "    print('extract_output : {0}'.format(sum_count))\n",
        "    sum,count = sum_count\n",
        "    return sum/count if count else float('NaN')  \n",
        "\n",
        "with beam.Pipeline() as p1:\n",
        "\n",
        "  small_sum = (\n",
        "      p1\n",
        "      | beam.Create([15,5,7,7,9,23,13,5])\n",
        "      | beam.CombineGlobally(AverageFn())\n",
        "      | beam.io.WriteToText('data/combine')\n",
        "  )\n"
      ],
      "execution_count": 0,
      "outputs": [
        {
          "output_type": "stream",
          "text": [
            "inside create\n",
            "extract_output : (0.0, 0)\n"
          ],
          "name": "stdout"
        },
        {
          "output_type": "stream",
          "text": [
            "WARNING:apache_beam.io.filebasedsink:Deleting 1 existing files in target path matching: -*-of-%(num_shards)05d\n"
          ],
          "name": "stderr"
        },
        {
          "output_type": "stream",
          "text": [
            "inside create\n",
            "add_input : sum_count (0.0, 0)\n",
            "add_input : input 15\n",
            "add_input : sum_count (15.0, 1)\n",
            "add_input : input 5\n",
            "add_input : sum_count (20.0, 2)\n",
            "add_input : input 7\n",
            "add_input : sum_count (27.0, 3)\n",
            "add_input : input 7\n",
            "add_input : sum_count (34.0, 4)\n",
            "add_input : input 9\n",
            "add_input : sum_count (43.0, 5)\n",
            "add_input : input 23\n",
            "add_input : sum_count (66.0, 6)\n",
            "add_input : input 13\n",
            "add_input : sum_count (79.0, 7)\n",
            "add_input : input 5\n",
            "merge_accumulators : input [(84.0, 8)]\n",
            "merge_accumulators : zip_acc <zip object at 0x7ff42b7579c8>\n",
            "merge_accumulators : sums (84.0,)\n",
            "merge_accumulators : counts (8,)\n",
            "extract_output : (84.0, 8)\n"
          ],
          "name": "stdout"
        }
      ]
    },
    {
      "cell_type": "code",
      "metadata": {
        "id": "38xwtFwkikvf",
        "colab_type": "code",
        "outputId": "e184d2dd-2c3f-4cb6-c572-f1bfbe486766",
        "colab": {
          "base_uri": "https://localhost:8080/",
          "height": 34
        }
      },
      "source": [
        "!head -20 data/combine-00000-of-00001"
      ],
      "execution_count": 0,
      "outputs": [
        {
          "output_type": "stream",
          "text": [
            "9.333333333333334\n"
          ],
          "name": "stdout"
        }
      ]
    }
  ]
}