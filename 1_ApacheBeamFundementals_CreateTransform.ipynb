{
  "nbformat": 4,
  "nbformat_minor": 0,
  "metadata": {
    "colab": {
      "name": "1_ApacheBeamFundementals_CreateTransform.ipynb",
      "provenance": [],
      "authorship_tag": "ABX9TyNID6C6L9CT1jBXZOFN15OY",
      "include_colab_link": true
    },
    "kernelspec": {
      "name": "python3",
      "display_name": "Python 3"
    }
  },
  "cells": [
    {
      "cell_type": "markdown",
      "metadata": {
        "id": "view-in-github",
        "colab_type": "text"
      },
      "source": [
        "<a href=\"https://colab.research.google.com/github/vijayrgopu/apache_beam/blob/master/1_ApacheBeamFundementals_CreateTransform.ipynb\" target=\"_parent\"><img src=\"https://colab.research.google.com/assets/colab-badge.svg\" alt=\"Open In Colab\"/></a>"
      ]
    },
    {
      "cell_type": "markdown",
      "metadata": {
        "id": "vjVW5qAkcxHX",
        "colab_type": "text"
      },
      "source": [
        "## **Install Apache Beam Package**"
      ]
    },
    {
      "cell_type": "code",
      "metadata": {
        "id": "Ywdf0zdqp1tz",
        "colab_type": "code",
        "colab": {}
      },
      "source": [
        "!pip install --quiet apache_beam"
      ],
      "execution_count": 0,
      "outputs": []
    },
    {
      "cell_type": "markdown",
      "metadata": {
        "id": "AAVEpB2sc6hn",
        "colab_type": "text"
      },
      "source": [
        "## **Create a data directory and load a file into it**"
      ]
    },
    {
      "cell_type": "code",
      "metadata": {
        "id": "vp21q1wJrMzn",
        "colab_type": "code",
        "outputId": "71e6f342-91ff-4081-93b4-613ea47e093a",
        "colab": {
          "base_uri": "https://localhost:8080/",
          "height": 34
        }
      },
      "source": [
        "!mkdir data"
      ],
      "execution_count": 0,
      "outputs": [
        {
          "output_type": "stream",
          "text": [
            "mkdir: cannot create directory ‘data’: File exists\n"
          ],
          "name": "stdout"
        }
      ]
    },
    {
      "cell_type": "code",
      "metadata": {
        "id": "kueBPoe-rWdk",
        "colab_type": "code",
        "outputId": "e67b2503-8ade-43cb-8ca3-b9815f502ba8",
        "colab": {
          "base_uri": "https://localhost:8080/",
          "height": 68
        }
      },
      "source": [
        "!ls -ltr"
      ],
      "execution_count": 0,
      "outputs": [
        {
          "output_type": "stream",
          "text": [
            "total 8\n",
            "drwxr-xr-x 1 root root 4096 Mar 18 16:23 sample_data\n",
            "drwxr-xr-x 2 root root 4096 Mar 28 19:46 data\n"
          ],
          "name": "stdout"
        }
      ]
    },
    {
      "cell_type": "code",
      "metadata": {
        "id": "MuxYPEx-rcAz",
        "colab_type": "code",
        "outputId": "4024585d-8548-42ce-eb94-f89cf8bd3757",
        "colab": {
          "base_uri": "https://localhost:8080/",
          "height": 224
        }
      },
      "source": [
        "!wget https://mp4-a.udemycdn.com/2020-01-21_11-30-40-200a00a6f9c8fca7c2ebfd7fd2e6c2b5/original.txt?oCjqlY8n-kqgCBsxO6Vr06FXja0yj56jOAEBMAuMX9Pt5PLwkwmKnS4NsN3KCehWJS3ZiTpNK2_8hJAzN_MDIxchxmwfO157eUKWjMev7bJGKRISx13sY2vbKSyf8fP4iWOcvuzug3iXqWR0HhJLOM09CHNcfI7mzRDDkb-Yo2I"
      ],
      "execution_count": 0,
      "outputs": [
        {
          "output_type": "stream",
          "text": [
            "--2020-03-28 19:46:49--  https://mp4-a.udemycdn.com/2020-01-21_11-30-40-200a00a6f9c8fca7c2ebfd7fd2e6c2b5/original.txt?oCjqlY8n-kqgCBsxO6Vr06FXja0yj56jOAEBMAuMX9Pt5PLwkwmKnS4NsN3KCehWJS3ZiTpNK2_8hJAzN_MDIxchxmwfO157eUKWjMev7bJGKRISx13sY2vbKSyf8fP4iWOcvuzug3iXqWR0HhJLOM09CHNcfI7mzRDDkb-Yo2I\n",
            "Resolving mp4-a.udemycdn.com (mp4-a.udemycdn.com)... 152.199.5.59\n",
            "Connecting to mp4-a.udemycdn.com (mp4-a.udemycdn.com)|152.199.5.59|:443... connected.\n",
            "HTTP request sent, awaiting response... 200 OK\n",
            "Length: 33086 (32K) [text/plain]\n",
            "Saving to: ‘original.txt?oCjqlY8n-kqgCBsxO6Vr06FXja0yj56jOAEBMAuMX9Pt5PLwkwmKnS4NsN3KCehWJS3ZiTpNK2_8hJAzN_MDIxchxmwfO157eUKWjMev7bJGKRISx13sY2vbKSyf8fP4iWOcvuzug3iXqWR0HhJLOM09CHNcfI7mzRDDkb-Yo2I’\n",
            "\n",
            "\r          original.   0%[                    ]       0  --.-KB/s               \roriginal.txt?oCjqlY 100%[===================>]  32.31K  --.-KB/s    in 0s      \n",
            "\n",
            "2020-03-28 19:46:49 (225 MB/s) - ‘original.txt?oCjqlY8n-kqgCBsxO6Vr06FXja0yj56jOAEBMAuMX9Pt5PLwkwmKnS4NsN3KCehWJS3ZiTpNK2_8hJAzN_MDIxchxmwfO157eUKWjMev7bJGKRISx13sY2vbKSyf8fP4iWOcvuzug3iXqWR0HhJLOM09CHNcfI7mzRDDkb-Yo2I’ saved [33086/33086]\n",
            "\n"
          ],
          "name": "stdout"
        }
      ]
    },
    {
      "cell_type": "code",
      "metadata": {
        "id": "YLADJlozaYrJ",
        "colab_type": "code",
        "colab": {}
      },
      "source": [
        "!mv original* dept_data.txt "
      ],
      "execution_count": 0,
      "outputs": []
    },
    {
      "cell_type": "markdown",
      "metadata": {
        "id": "bkk3aczFdKrC",
        "colab_type": "text"
      },
      "source": [
        "## **Create a pipeline from memory**"
      ]
    },
    {
      "cell_type": "code",
      "metadata": {
        "id": "aWbnXo39bHcC",
        "colab_type": "code",
        "outputId": "fb323d2e-8b45-41d1-9bd8-863076043ebb",
        "colab": {
          "base_uri": "https://localhost:8080/",
          "height": 85
        }
      },
      "source": [
        "import apache_beam as beam\n",
        "\n",
        "p1 = beam.Pipeline()\n",
        "#lines is a PCollection and is immutable.\n",
        "lines = (\n",
        "    p1\n",
        "       #beam.Create is not in io package\n",
        "     | beam.Create(['Hello World!',\n",
        "                       'I am loving this Apache Beam Course',\n",
        "                       'This is simply Amazing'])\n",
        "     | beam.io.WriteToText('data/CreatePipelineEg.txt')\n",
        ")\n",
        "\n",
        "p1.run()\n",
        "#while reading the records from the output file use the shards \"00000-of-00001\" suffix\n",
        "!head -20 data/CreatePipelineEg.txt-00000-of-00001\n"
      ],
      "execution_count": 0,
      "outputs": [
        {
          "output_type": "stream",
          "text": [
            "WARNING:apache_beam.io.filebasedsink:Deleting 1 existing files in target path matching: -*-of-%(num_shards)05d\n"
          ],
          "name": "stderr"
        },
        {
          "output_type": "stream",
          "text": [
            "Hello World!\n",
            "I am loving this Apache Beam Course\n",
            "This is simply Amazing\n"
          ],
          "name": "stdout"
        }
      ]
    },
    {
      "cell_type": "code",
      "metadata": {
        "id": "bZzTfNHclEDN",
        "colab_type": "code",
        "outputId": "61bec72c-a861-4184-a427-2779efa0745d",
        "colab": {
          "base_uri": "https://localhost:8080/",
          "height": 187
        }
      },
      "source": [
        "#Simple pipeline #2\n",
        "p1 = beam.Pipeline()\n",
        "lines = (\n",
        "    p1\n",
        "     | beam.Create([1,2,3,4,5])\n",
        "     | beam.io.WriteToText('data/CreatePipelineEg2.txt')\n",
        ")\n",
        "\n",
        "p1.run()\n",
        "!ls -ltr data/C*\n",
        "!head -20 data/CreatePipelineEg2.txt-00000-of-00001"
      ],
      "execution_count": 0,
      "outputs": [
        {
          "output_type": "stream",
          "text": [
            "WARNING:apache_beam.io.filebasedsink:Deleting 1 existing files in target path matching: -*-of-%(num_shards)05d\n"
          ],
          "name": "stderr"
        },
        {
          "output_type": "stream",
          "text": [
            "-rw-r--r-- 1 root root 45 Mar 28 19:45 data/CreatePipelineEg3.txt-00000-of-00001\n",
            "-rw-r--r-- 1 root root 75 Mar 28 19:46 data/CreatePipelineEg4.txt-00000-of-00001\n",
            "-rw-r--r-- 1 root root 72 Mar 28 19:46 data/CreatePipelineEg.txt-00000-of-00001\n",
            "-rw-r--r-- 1 root root 10 Mar 28 19:46 data/CreatePipelineEg2.txt-00000-of-00001\n",
            "1\n",
            "2\n",
            "3\n",
            "4\n",
            "5\n"
          ],
          "name": "stdout"
        }
      ]
    },
    {
      "cell_type": "code",
      "metadata": {
        "id": "2A29_E4VXlQL",
        "colab_type": "code",
        "outputId": "c838c254-1914-4670-ec05-6d1bf17eda67",
        "colab": {
          "base_uri": "https://localhost:8080/",
          "height": 102
        }
      },
      "source": [
        "#simple pipeline #3\n",
        "p1 = beam.Pipeline()\n",
        "lines = (\n",
        "    p1\n",
        "     | beam.Create([('maths',45),('science',50),('social',46)])\n",
        "     | beam.io.WriteToText('data/CreatePipelineEg3.txt')\n",
        ")\n",
        "p1.run()\n",
        "\n",
        "!ls -ltr data/CreatePipelineEg3.*\n",
        "!head -10 data/CreatePipelineEg3.txt-00000-of-00001"
      ],
      "execution_count": 0,
      "outputs": [
        {
          "output_type": "stream",
          "text": [
            "WARNING:apache_beam.io.filebasedsink:Deleting 1 existing files in target path matching: -*-of-%(num_shards)05d\n"
          ],
          "name": "stderr"
        },
        {
          "output_type": "stream",
          "text": [
            "-rw-r--r-- 1 root root 45 Mar 28 19:46 data/CreatePipelineEg3.txt-00000-of-00001\n",
            "('maths', 45)\n",
            "('science', 50)\n",
            "('social', 46)\n"
          ],
          "name": "stdout"
        }
      ]
    },
    {
      "cell_type": "code",
      "metadata": {
        "id": "PWiKV5GFZZj7",
        "colab_type": "code",
        "outputId": "145ddb1b-67bd-4b22-e1e7-42b856755bda",
        "colab": {
          "base_uri": "https://localhost:8080/",
          "height": 68
        }
      },
      "source": [
        "#simple pipeline #4 Dictionary elements \n",
        "\n",
        "p1 = beam.Pipeline()\n",
        "lines = (\n",
        "    p1\n",
        "     | beam.Create({'subjects':['math','physics','science'],\n",
        "                    'marks':['35','45','50']})\n",
        "     | beam.Map(lambda x : x)\n",
        "     | beam.io.WriteToText('data/CreatePipelineEg4.txt')\n",
        ")\n",
        "p1.run()\n",
        "\n",
        "!head -10 data/CreatePipelineEg4.txt-00000-of-00001"
      ],
      "execution_count": 0,
      "outputs": [
        {
          "output_type": "stream",
          "text": [
            "WARNING:apache_beam.io.filebasedsink:Deleting 1 existing files in target path matching: -*-of-%(num_shards)05d\n"
          ],
          "name": "stderr"
        },
        {
          "output_type": "stream",
          "text": [
            "('subjects', ['math', 'physics', 'science'])\n",
            "('marks', ['35', '45', '50'])\n"
          ],
          "name": "stdout"
        }
      ]
    }
  ]
}