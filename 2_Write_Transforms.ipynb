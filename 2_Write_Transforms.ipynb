{
  "nbformat": 4,
  "nbformat_minor": 0,
  "metadata": {
    "colab": {
      "name": "2_Write_Transforms.ipynb",
      "provenance": [],
      "authorship_tag": "ABX9TyPTfhx6VtaT85rwYHPCtU7G",
      "include_colab_link": true
    },
    "kernelspec": {
      "name": "python3",
      "display_name": "Python 3"
    }
  },
  "cells": [
    {
      "cell_type": "markdown",
      "metadata": {
        "id": "view-in-github",
        "colab_type": "text"
      },
      "source": [
        "<a href=\"https://colab.research.google.com/github/vijayrgopu/apache_beam/blob/master/2_Write_Transforms.ipynb\" target=\"_parent\"><img src=\"https://colab.research.google.com/assets/colab-badge.svg\" alt=\"Open In Colab\"/></a>"
      ]
    },
    {
      "cell_type": "code",
      "metadata": {
        "id": "6f2Rm-76kNZQ",
        "colab_type": "code",
        "colab": {}
      },
      "source": [
        "!pip install --quiet apache_beam"
      ],
      "execution_count": 0,
      "outputs": []
    },
    {
      "cell_type": "code",
      "metadata": {
        "id": "R7EsqN4RlAFu",
        "colab_type": "code",
        "outputId": "fb61e48d-a637-474d-9bc2-56f336b9d569",
        "colab": {
          "base_uri": "https://localhost:8080/",
          "height": 34
        }
      },
      "source": [
        "!mkdir data\n",
        "\n"
      ],
      "execution_count": 0,
      "outputs": [
        {
          "output_type": "stream",
          "text": [
            "mkdir: cannot create directory ‘data’: File exists\n"
          ],
          "name": "stdout"
        }
      ]
    },
    {
      "cell_type": "code",
      "metadata": {
        "id": "aJoCI5Ptlf5T",
        "colab_type": "code",
        "colab": {}
      },
      "source": [
        "!wget -q https://mp4-a.udemycdn.com/2020-01-21_11-30-40-200a00a6f9c8fca7c2ebfd7fd2e6c2b5/original.txt?oCjqlY8n-kqgCBsxO6Vr06FXja0yj56jOAEBMAuMX9Pt5PLwkwmKnS4NsN3KCehWJS3ZiTpNK2_8hJAzN_MDIxchxmwfO157eUKWjMev7bJGKRISx13sY2vbKSyf8fP4iWOcvuzug3iXqWR0HhJLOM09CHNcfI7mzRDDkb-Yo2I"
      ],
      "execution_count": 0,
      "outputs": []
    },
    {
      "cell_type": "code",
      "metadata": {
        "id": "QtobryXFls-I",
        "colab_type": "code",
        "colab": {}
      },
      "source": [
        "!mv original* data/dept_data.txt "
      ],
      "execution_count": 0,
      "outputs": []
    },
    {
      "cell_type": "code",
      "metadata": {
        "id": "hYb_w82bpvpi",
        "colab_type": "code",
        "outputId": "5b599978-e3f0-4556-d6b4-e44550226b4e",
        "colab": {
          "base_uri": "https://localhost:8080/",
          "height": 85
        }
      },
      "source": [
        "!ls -ltr"
      ],
      "execution_count": 0,
      "outputs": [
        {
          "output_type": "stream",
          "text": [
            "total 44\n",
            "-rw-r--r-- 1 root root 33086 Jan 21 11:30 dept_data.txt\n",
            "drwxr-xr-x 1 root root  4096 Mar 18 16:23 sample_data\n",
            "drwxrwxrwx 2 root root  4096 Mar 28 22:08 data\n"
          ],
          "name": "stdout"
        }
      ]
    },
    {
      "cell_type": "code",
      "metadata": {
        "id": "C-Au9v9usQHr",
        "colab_type": "code",
        "colab": {}
      },
      "source": [
        "import apache_beam as beam"
      ],
      "execution_count": 0,
      "outputs": []
    },
    {
      "cell_type": "code",
      "metadata": {
        "id": "08rreIvokgpj",
        "colab_type": "code",
        "outputId": "259e6718-b350-4771-c883-71e68d65f90c",
        "colab": {
          "base_uri": "https://localhost:8080/",
          "height": 323
        }
      },
      "source": [
        "with beam.Pipeline() as p1:\n",
        "  read_from_file = (\n",
        "    p1\n",
        "     | 'Read from file' >> beam.io.ReadFromText('dept_data.txt',)\n",
        "     | 'Split records with delimit ,' >> beam.Map(lambda x : x.split(','))\n",
        "  )\n",
        "\n",
        "  accounts_count = (   \n",
        "     read_from_file  \n",
        "     | 'Filter in Accounts Only' >> beam.Filter(lambda x : x[3] == 'Accounts')\n",
        "     | 'Add a count instance 1' >> beam.Map(lambda x : ('Accounts, ' + x[1],1))\n",
        "     | 'Sum records based on Name' >> beam.CombinePerKey(sum)\n",
        "#     | 'Write to File Accounts' >> beam.io.WriteToText('data/accounts_output_new_final') \n",
        "  )\n",
        "\n",
        "  hr_count = (\n",
        "      read_from_file\n",
        "      | 'Filter in HR Only' >> beam.Filter(lambda x : x[3] == 'HR')\n",
        "      | 'Add a count instance 1 for HR' >> beam.Map(lambda x : ('HR, ' + x[1],1))\n",
        "      | 'Sum records based on Name for HR' >> beam.CombinePerKey(sum)\n",
        "#      | 'Write to File HR' >> beam.io.WriteToText('data/hr_output_new_final')\n",
        "  )\n",
        "\n",
        "  combine_output = (\n",
        "      (accounts_count,hr_count)\n",
        "      | beam.Flatten()\n",
        "      | 'Write to Combined File' >> beam.io.WriteToText('data/combined_final')\n",
        "  )\n",
        "#p1.run()\n",
        "!head -20 data/accounts_output_new_final-00000-of-00001 \n",
        "!head -20 data/hr_output_new_final-00000-of-00001 "
      ],
      "execution_count": 0,
      "outputs": [
        {
          "output_type": "stream",
          "text": [
            "WARNING:apache_beam.io.filebasedsink:Deleting 1 existing files in target path matching: -*-of-%(num_shards)05d\n"
          ],
          "name": "stderr"
        },
        {
          "output_type": "stream",
          "text": [
            "('Accounts, Marco', 31)\n",
            "('Accounts, Rebekah', 31)\n",
            "('Accounts, Itoe', 31)\n",
            "('Accounts, Edouard', 31)\n",
            "('Accounts, Kyle', 62)\n",
            "('Accounts, Kumiko', 31)\n",
            "('Accounts, Gaston', 31)\n",
            "('Accounts, Ayumi', 30)\n",
            "('HR, Beryl', 62)\n",
            "('HR, Olga', 31)\n",
            "('HR, Leslie', 31)\n",
            "('HR, Mindy', 31)\n",
            "('HR, Vicky', 31)\n",
            "('HR, Richard', 31)\n",
            "('HR, Kirk', 31)\n",
            "('HR, Kaori', 31)\n",
            "('HR, Oscar', 31)\n"
          ],
          "name": "stdout"
        }
      ]
    }
  ]
}