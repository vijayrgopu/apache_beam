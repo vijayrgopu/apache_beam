{
  "nbformat": 4,
  "nbformat_minor": 0,
  "metadata": {
    "colab": {
      "name": "3_Word_Count_Assignment.ipynb",
      "provenance": [],
      "authorship_tag": "ABX9TyPkkBg4VfR2Zj40T1gpLZYj",
      "include_colab_link": true
    },
    "kernelspec": {
      "name": "python3",
      "display_name": "Python 3"
    }
  },
  "cells": [
    {
      "cell_type": "markdown",
      "metadata": {
        "id": "view-in-github",
        "colab_type": "text"
      },
      "source": [
        "<a href=\"https://colab.research.google.com/github/vijayrgopu/apache_beam/blob/master/3_Word_Count_Assignment.ipynb\" target=\"_parent\"><img src=\"https://colab.research.google.com/assets/colab-badge.svg\" alt=\"Open In Colab\"/></a>"
      ]
    },
    {
      "cell_type": "code",
      "metadata": {
        "id": "o1dxjI9RYg4V",
        "colab_type": "code",
        "colab": {}
      },
      "source": [
        "!pip install --quiet apache_beam"
      ],
      "execution_count": 0,
      "outputs": []
    },
    {
      "cell_type": "code",
      "metadata": {
        "id": "SYn-0QRSYqJi",
        "colab_type": "code",
        "colab": {}
      },
      "source": [
        "!wget -q https://mp4-a.udemycdn.com/2019-09-08_12-32-59-122266ba439628cfaca7f88e80e760b9/original.txt?I0E2_XcvaIfNrWlXxfVaEP3Ef3DGiCe3NMtZzCtaEulsnMO35ZEZZO2bjQfsGiMc0khoikThrIP-vvrFv1nqQ6TeMXNHaUHMMuz_p9r05uqBDlXlTsNZm5KxbvvYij5KRi4vjoOUBZHcQdVTkDXgWgXjkYeIwwVmgLHVs2UNe2Y\n",
        "!mv original* assignment_data.txt"
      ],
      "execution_count": 0,
      "outputs": []
    },
    {
      "cell_type": "code",
      "metadata": {
        "id": "q-JLBcvWavLS",
        "colab_type": "code",
        "colab": {}
      },
      "source": [
        "import apache_beam as beam\n",
        "import re as re"
      ],
      "execution_count": 0,
      "outputs": []
    },
    {
      "cell_type": "code",
      "metadata": {
        "id": "t5zeK0uSYvsh",
        "colab_type": "code",
        "outputId": "a4b4f196-a2d5-4621-dceb-02575d722f57",
        "colab": {
          "base_uri": "https://localhost:8080/",
          "height": 34
        }
      },
      "source": [
        "with beam.Pipeline() as p1:\n",
        "\n",
        "  read_from_file = (\n",
        "      p1\n",
        "      | 'Read data File' >> beam.io.ReadFromText('assignment_data.txt')\n",
        "      | 'Find words' >> beam.FlatMap(lambda line: re.findall(r\"[a-zA-Z']+\", line))\n",
        "      | 'Add a value of 1 to each' >> beam.Map(lambda word : (word,1))\n",
        "      | 'Sum all words' >> beam.CombinePerKey(sum)\n",
        "      | 'Filter Records' >> beam.Filter(lambda word : word[1] > 500)\n",
        "      | 'Write data to a text File' >> beam.io.WriteToText('data/output')\n",
        "  )"
      ],
      "execution_count": 0,
      "outputs": [
        {
          "output_type": "stream",
          "text": [
            "WARNING:apache_beam.io.filebasedsink:Deleting 1 existing files in target path matching: -*-of-%(num_shards)05d\n"
          ],
          "name": "stderr"
        }
      ]
    },
    {
      "cell_type": "code",
      "metadata": {
        "id": "lT0tVTffYxhw",
        "colab_type": "code",
        "outputId": "2bb1c0c4-b287-4078-f44f-3fe5c00a8953",
        "colab": {
          "base_uri": "https://localhost:8080/",
          "height": 68
        }
      },
      "source": [
        " !head -20 data/output*"
      ],
      "execution_count": 0,
      "outputs": [
        {
          "output_type": "stream",
          "text": [
            "('and', 594)\n",
            "('I', 622)\n",
            "('the', 786)\n"
          ],
          "name": "stdout"
        }
      ]
    }
  ]
}